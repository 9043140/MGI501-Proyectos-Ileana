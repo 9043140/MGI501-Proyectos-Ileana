{
 "cells": [
  {
   "cell_type": "code",
   "execution_count": 1,
   "id": "1fff1a48-4722-4d25-b508-56c492a00827",
   "metadata": {},
   "outputs": [
    {
     "name": "stdout",
     "output_type": "stream",
     "text": [
      "Requirement already satisfied: torch in c:\\users\\dell\\miniconda3\\lib\\site-packages (2.7.1+cu118)\n",
      "Requirement already satisfied: torchvision in c:\\users\\dell\\miniconda3\\lib\\site-packages (0.22.1+cu118)\n",
      "Requirement already satisfied: torchaudio in c:\\users\\dell\\miniconda3\\lib\\site-packages (2.7.1+cu118)\n",
      "Requirement already satisfied: filelock in c:\\users\\dell\\miniconda3\\lib\\site-packages (from torch) (3.13.1)\n",
      "Requirement already satisfied: typing-extensions>=4.10.0 in c:\\users\\dell\\miniconda3\\lib\\site-packages (from torch) (4.12.2)\n",
      "Requirement already satisfied: sympy>=1.13.3 in c:\\users\\dell\\miniconda3\\lib\\site-packages (from torch) (1.13.3)\n",
      "Requirement already satisfied: networkx in c:\\users\\dell\\miniconda3\\lib\\site-packages (from torch) (3.3)\n",
      "Requirement already satisfied: jinja2 in c:\\users\\dell\\miniconda3\\lib\\site-packages (from torch) (3.1.4)\n",
      "Requirement already satisfied: fsspec in c:\\users\\dell\\miniconda3\\lib\\site-packages (from torch) (2024.6.1)\n",
      "Requirement already satisfied: setuptools in c:\\users\\dell\\miniconda3\\lib\\site-packages (from torch) (78.1.1)\n",
      "Requirement already satisfied: numpy in c:\\users\\dell\\miniconda3\\lib\\site-packages (from torchvision) (2.1.2)\n",
      "Requirement already satisfied: pillow!=8.3.*,>=5.3.0 in c:\\users\\dell\\miniconda3\\lib\\site-packages (from torchvision) (11.0.0)\n",
      "Requirement already satisfied: mpmath<1.4,>=1.1.0 in c:\\users\\dell\\miniconda3\\lib\\site-packages (from sympy>=1.13.3->torch) (1.3.0)\n",
      "Requirement already satisfied: MarkupSafe>=2.0 in c:\\users\\dell\\miniconda3\\lib\\site-packages (from jinja2->torch) (2.1.5)\n"
     ]
    }
   ],
   "source": [
    "!pip install torch torchvision torchaudio\n",
    "import torch\n",
    "import torch.nn as nn\n",
    "import torch.nn.functional as F\n",
    "from torch.utils.data import DataLoader, TensorDataset\n",
    "import matplotlib.pyplot as plt\n",
    "import numpy as np"
   ]
  },
  {
   "cell_type": "code",
   "execution_count": 2,
   "id": "6e20466f-f0ec-4c52-8098-352c52e5be78",
   "metadata": {},
   "outputs": [
    {
     "name": "stdout",
     "output_type": "stream",
     "text": [
      "Tensor x:\n",
      " tensor([[1., 2.],\n",
      "        [3., 4.]])\n",
      "Tensor y:\n",
      " tensor([[ 4.,  7.],\n",
      "        [12., 19.]])\n"
     ]
    }
   ],
   "source": [
    "x = torch.tensor([[1.0, 2.0], [3.0, 4.0]])\n",
    "print(\"Tensor x:\\n\", x)\n",
    "\n",
    "y = x ** 2 + 3\n",
    "print(\"Tensor y:\\n\", y)"
   ]
  },
  {
   "cell_type": "code",
   "execution_count": 3,
   "id": "0d1953ac-f4e0-4b72-8ee0-db4ea6a37355",
   "metadata": {},
   "outputs": [
    {
     "name": "stdout",
     "output_type": "stream",
     "text": [
      "Usando dispositivo: cpu\n"
     ]
    }
   ],
   "source": [
    "device = torch.device('cuda' if torch.cuda.is_available() else 'cpu')\n",
    "print(f\"Usando dispositivo: {device}\")"
   ]
  },
  {
   "cell_type": "code",
   "execution_count": 4,
   "id": "0f2efe68-80b9-432b-bdb1-2dbf0ea1279d",
   "metadata": {},
   "outputs": [],
   "source": [
    "X = torch.randn(200, 4)\n",
    "y = torch.randint(0, 3, (200,))  # 3 clases\n",
    "\n",
    "dataset = TensorDataset(X, y)\n",
    "dataloader = DataLoader(dataset, batch_size=16, shuffle=True)"
   ]
  },
  {
   "cell_type": "code",
   "execution_count": 5,
   "id": "68e3f6a0-dfe5-4594-8e0d-efbe2f6afe2e",
   "metadata": {},
   "outputs": [
    {
     "name": "stdout",
     "output_type": "stream",
     "text": [
      "RedSimple(\n",
      "  (fc1): Linear(in_features=4, out_features=16, bias=True)\n",
      "  (fc2): Linear(in_features=16, out_features=3, bias=True)\n",
      ")\n"
     ]
    }
   ],
   "source": [
    "class RedSimple(nn.Module):\n",
    "    def __init__(self):\n",
    "        super(RedSimple, self).__init__()\n",
    "        self.fc1 = nn.Linear(4, 16)\n",
    "        self.fc2 = nn.Linear(16, 3)\n",
    "\n",
    "    def forward(self, x):\n",
    "        x = F.relu(self.fc1(x))\n",
    "        return self.fc2(x)\n",
    "\n",
    "model = RedSimple().to(device)\n",
    "print(model)"
   ]
  },
  {
   "cell_type": "code",
   "execution_count": 6,
   "id": "b18c9c53-eecf-4bb7-9694-cf060756f8cf",
   "metadata": {},
   "outputs": [
    {
     "name": "stdout",
     "output_type": "stream",
     "text": [
      "Época 1, Pérdida total: 14.9688\n",
      "Época 2, Pérdida total: 14.3246\n",
      "Época 3, Pérdida total: 14.0362\n",
      "Época 4, Pérdida total: 14.0226\n",
      "Época 5, Pérdida total: 13.9429\n",
      "Época 6, Pérdida total: 13.8032\n",
      "Época 7, Pérdida total: 13.7271\n",
      "Época 8, Pérdida total: 13.7065\n",
      "Época 9, Pérdida total: 13.6030\n",
      "Época 10, Pérdida total: 13.5658\n"
     ]
    }
   ],
   "source": [
    "optimizer = torch.optim.Adam(model.parameters(), lr=0.01)\n",
    "criterion = nn.CrossEntropyLoss()\n",
    "\n",
    "losses = []\n",
    "for epoch in range(10):\n",
    "    total_loss = 0\n",
    "    for batch_x, batch_y in dataloader:\n",
    "        batch_x, batch_y = batch_x.to(device), batch_y.to(device)\n",
    "\n",
    "        optimizer.zero_grad()\n",
    "        outputs = model(batch_x)\n",
    "        loss = criterion(outputs, batch_y)\n",
    "        loss.backward()\n",
    "        optimizer.step()\n",
    "        total_loss += loss.item()\n",
    "\n",
    "    print(f\"Época {epoch+1}, Pérdida total: {total_loss:.4f}\")\n",
    "    losses.append(total_loss)"
   ]
  },
  {
   "cell_type": "code",
   "execution_count": 7,
   "id": "eded85e0-243a-4ae8-8269-9aca9ca22706",
   "metadata": {},
   "outputs": [
    {
     "data": {
      "image/png": "[encoded data removed]",
      "text/plain": [
       "<Figure size 640x480 with 1 Axes>"
      ]
     },
     "metadata": {},
     "output_type": "display_data"
    }
   ],
   "source": [
    "plt.plot(losses)\n",
    "plt.title(\"Curva de pérdida\")\n",
    "plt.xlabel(\"Épocas\")\n",
    "plt.ylabel(\"Pérdida\")\n",
    "plt.grid()\n",
    "plt.show()"
   ]
  },
  {
   "cell_type": "code",
   "execution_count": 8,
   "id": "daa86ee8-543a-41a0-a146-7d4a84cdc5da",
   "metadata": {},
   "outputs": [
    {
     "name": "stdout",
     "output_type": "stream",
     "text": [
      "RedMejorada(\n",
      "  (fc1): Linear(in_features=4, out_features=32, bias=True)\n",
      "  (fc2): Linear(in_features=32, out_features=16, bias=True)\n",
      "  (fc3): Linear(in_features=16, out_features=3, bias=True)\n",
      ")\n"
     ]
    }
   ],
   "source": [
    "class RedMejorada(nn.Module):\n",
    "    def __init__(self):\n",
    "        super(RedMejorada, self).__init__()\n",
    "        self.fc1 = nn.Linear(4, 32)       # Capa 1\n",
    "        self.fc2 = nn.Linear(32, 16)      # Nueva capa oculta\n",
    "        self.fc3 = nn.Linear(16, 3)       # Capa de salida\n",
    "\n",
    "    def forward(self, x):\n",
    "        x = F.relu(self.fc1(x))\n",
    "        x = F.relu(self.fc2(x))\n",
    "        return self.fc3(x)\n",
    "\n",
    "model = RedMejorada().to(device)\n",
    "print(model)"
   ]
  },
  {
   "cell_type": "code",
   "execution_count": 10,
   "id": "7c608ed9-d6aa-4ea9-a90d-02ca62df4ee3",
   "metadata": {},
   "outputs": [],
   "source": [
    "class RedConDropout(nn.Module):\n",
    "    def __init__(self):\n",
    "        super(RedConDropout, self).__init__()\n",
    "        self.fc1 = nn.Linear(4, 32)\n",
    "        self.dropout1 = nn.Dropout(0.3)\n",
    "        self.fc2 = nn.Linear(32, 16)\n",
    "        self.dropout2 = nn.Dropout(0.3)\n",
    "        self.fc3 = nn.Linear(16, 3)\n",
    "\n",
    "    def forward(self, x):\n",
    "        x = F.relu(self.fc1(x))\n",
    "        x = self.dropout1(x)\n",
    "        x = F.relu(self.fc2(x))\n",
    "        x = self.dropout2(x)\n",
    "        return self.fc3(x)\n",
    "\n",
    "model = RedConDropout().to(device)"
   ]
  },
  {
   "cell_type": "code",
   "execution_count": 11,
   "id": "69533502-7a39-417d-b5b2-2547fff915cb",
   "metadata": {},
   "outputs": [],
   "source": [
    "# Entrenar por más épocas\n",
    "for epoch in range(30):  # antes eran 10\n",
    "    ...\n"
   ]
  },
  {
   "cell_type": "code",
   "execution_count": 12,
   "id": "8e2faae1-8241-4d48-bdc2-4c02ebdf57c9",
   "metadata": {},
   "outputs": [],
   "source": [
    "optimizer = torch.optim.Adam(model.parameters(), lr=0.005)  # antes era 0.01\n"
   ]
  },
  {
   "cell_type": "code",
   "execution_count": null,
   "id": "9f0f3215-fe79-4daf-a0a1-a71d71a2ec07",
   "metadata": {},
   "outputs": [],
   "source": []
  }
 ],
 "metadata": {
  "kernelspec": {
   "display_name": "Python 3 (ipykernel)",
   "language": "python",
   "name": "python3"
  },
  "language_info": {
   "codemirror_mode": {
    "name": "ipython",
    "version": 3
   },
   "file_extension": ".py",
   "mimetype": "text/x-python",
   "name": "python",
   "nbconvert_exporter": "python",
   "pygments_lexer": "ipython3",
   "version": "3.13.5"
  }
 },
 "nbformat": 4,
 "nbformat_minor": 5
}
